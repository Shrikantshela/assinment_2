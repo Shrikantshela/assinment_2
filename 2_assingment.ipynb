{
 "cells": [
  {
   "cell_type": "code",
   "execution_count": 4,
   "id": "16ee86d1-e37d-4763-b4e3-427a6ab6ed78",
   "metadata": {},
   "outputs": [
    {
     "name": "stdin",
     "output_type": "stream",
     "text": [
      "enter any marks in percentage:-  50\n"
     ]
    },
    {
     "name": "stdout",
     "output_type": "stream",
     "text": [
      "Grade D\n"
     ]
    }
   ],
   "source": [
    "#1 write the program to accept percentage from the user and display the grade according to the following criteria\n",
    "num=int(input(\"enter any marks in percentage:- \"))\n",
    "if num>90 :\n",
    "    print(\"Grade A\")\n",
    "if num>80 and num<=90 :\n",
    "    print(\"Grade B\")\n",
    "if num>=60 and num<=80 :\n",
    "    print(\"Grade C\")\n",
    "if num<60 :\n",
    "    print(\"Grade D\")"
   ]
  },
  {
   "cell_type": "code",
   "execution_count": 9,
   "id": "dea9f745-058f-4606-beba-1cb6c72076e8",
   "metadata": {},
   "outputs": [
    {
     "name": "stdin",
     "output_type": "stream",
     "text": [
      "enter the cost price 1000\n"
     ]
    },
    {
     "name": "stdout",
     "output_type": "stream",
     "text": [
      "Tax is 5% \n"
     ]
    }
   ],
   "source": [
    "#2 write a program to accept the cost price of a bike and display the road tax to be paid according to the following criteria:\n",
    "cost_price=int(input(\"enter the cost price\"))\n",
    "if cost_price>100000 :\n",
    "    print(\"Tax is 15% \")\n",
    "if cost_price>50000 and cost_price<=100000 :\n",
    "    print(\"Tax is 10% \")\n",
    "if cost_price<=50000 :\n",
    "    print(\"Tax is 5% \")"
   ]
  },
  {
   "cell_type": "code",
   "execution_count": 16,
   "id": "b59f97a7-25a9-4a50-b785-807f62a23d19",
   "metadata": {},
   "outputs": [
    {
     "name": "stdin",
     "output_type": "stream",
     "text": [
      "enter any city from u have like:-  Agra\n"
     ]
    },
    {
     "name": "stdout",
     "output_type": "stream",
     "text": [
      "Taj mahal\n"
     ]
    }
   ],
   "source": [
    "#3 accept any city from the user and display monuments of that city\n",
    "city=input(\"enter any city from u have like:- \")#enter number \n",
    "if city==\"Delhi\" :\n",
    "    print(\"Red Fort\")\n",
    "if city==\"Agra\" :\n",
    "    print(\"Taj mahal\")\n",
    "if city==\"Jaipur\":\n",
    "    print(\"Jay Mahal\")"
   ]
  },
  {
   "cell_type": "code",
   "execution_count": 2,
   "id": "afb72680-8b55-4bb7-a1a4-e5396de9e01c",
   "metadata": {},
   "outputs": [],
   "source": [
    "#4 check how many times a given number can be divided by 3 before it is less than or equal to 10 \n",
    "\n",
    "# Python program to find if a number is\n",
    "# divisible by 3 or not\n",
    " \n",
    "# Function to find that number\n",
    "# divisible by 3 or not\n",
    "def check(num) :\n",
    "     \n",
    "    # Compute sum of digits\n",
    "    digitSum = 0\n",
    "    while num > 0 :\n",
    "        rem = num % 10\n",
    "        digitSum = digitSum + rem\n",
    "        num = num // 10\n",
    "         \n",
    "    # Check if sum of digits is\n",
    "    # divisible by 3.\n",
    "    return (digitSum % 3 == 0)"
   ]
  },
  {
   "cell_type": "code",
   "execution_count": 3,
   "id": "214a2bbe-291a-4418-8f3f-ec1cbf866638",
   "metadata": {},
   "outputs": [],
   "source": [
    "#5 why and when to use while loop in python give a detail description with examples .\n",
    "ans:-Python while loop is used to run a block code until a certain condition is met. Here,\n",
    "      A while loop evaluates the condition. If the condition evaluates to True , the code inside the while loop is executed."
   ]
  },
  {
   "cell_type": "code",
   "execution_count": 2,
   "id": "8c7b0af9-43df-4046-8a76-d1902dc31af3",
   "metadata": {},
   "outputs": [
    {
     "name": "stdout",
     "output_type": "stream",
     "text": [
      "\n",
      "1 \n",
      "2 2 \n",
      "3 3 3 \n",
      "4 4 4 4 \n"
     ]
    }
   ],
   "source": [
    "# 6 use nested while loop to print 3 diffrent  pattern \n",
    "rows = 5\n",
    "# if you want user to enter a number, uncomment the below line\n",
    "# rows = int(input('Enter the number of rows'))\n",
    "# outer loop\n",
    "for i in range(rows):\n",
    "    # nested loop\n",
    "    for j in range(i):\n",
    "        # display number\n",
    "        print(i, end=' ')\n",
    "    # new line after each row\n",
    "    print('')\n"
   ]
  },
  {
   "cell_type": "code",
   "execution_count": 9,
   "id": "8c7a7eb5-355b-4ea1-8aee-6d03b18cd7a3",
   "metadata": {},
   "outputs": [
    {
     "name": "stdout",
     "output_type": "stream",
     "text": [
      "1 2 \n",
      "1 2 3 \n",
      "1 2 3 4 \n",
      "1 2 3 4 5 \n",
      "1 2 3 4 5 6 \n"
     ]
    }
   ],
   "source": [
    "rows = 5\n",
    "for i in range(1, rows + 1):\n",
    "    for j in range(1, i+2):\n",
    "        print(j, end=' ')\n",
    "    print('')"
   ]
  },
  {
   "cell_type": "code",
   "execution_count": 5,
   "id": "18e2388b-8940-4638-a1c3-9d90cdd638e5",
   "metadata": {},
   "outputs": [
    {
     "name": "stdin",
     "output_type": "stream",
     "text": [
      "Enter number of rows :  2\n"
     ]
    },
    {
     "name": "stdout",
     "output_type": "stream",
     "text": [
      "* * \n",
      "* \n"
     ]
    }
   ],
   "source": [
    "n = int(input('Enter number of rows : '))\n",
    "\n",
    "i = 1\n",
    "while i <= n :\n",
    "    j = n\n",
    "    while j >= i:\n",
    "        print(\"*\", end = \" \")\n",
    "        j -= 1\n",
    "    print()\n",
    "    i += 1"
   ]
  },
  {
   "cell_type": "code",
   "execution_count": 7,
   "id": "e026a79b-cb87-4f26-9b6f-0f2e5efb0f03",
   "metadata": {},
   "outputs": [
    {
     "name": "stdout",
     "output_type": "stream",
     "text": [
      "10\n",
      "9\n",
      "8\n",
      "7\n",
      "6\n",
      "5\n",
      "4\n",
      "3\n",
      "2\n",
      "1\n"
     ]
    }
   ],
   "source": [
    "#7 reverse a while loop to display numbers from 10 to 1\n",
    "i = 10\n",
    "while i > 0:\n",
    "    print(i)\n",
    "    i = i - 1"
   ]
  },
  {
   "cell_type": "code",
   "execution_count": null,
   "id": "9e4139bb-43e9-488a-aec1-4255b6abdc8c",
   "metadata": {},
   "outputs": [],
   "source": [
    "#8 "
   ]
  }
 ],
 "metadata": {
  "kernelspec": {
   "display_name": "Python 3 (ipykernel)",
   "language": "python",
   "name": "python3"
  },
  "language_info": {
   "codemirror_mode": {
    "name": "ipython",
    "version": 3
   },
   "file_extension": ".py",
   "mimetype": "text/x-python",
   "name": "python",
   "nbconvert_exporter": "python",
   "pygments_lexer": "ipython3",
   "version": "3.10.8"
  }
 },
 "nbformat": 4,
 "nbformat_minor": 5
}
